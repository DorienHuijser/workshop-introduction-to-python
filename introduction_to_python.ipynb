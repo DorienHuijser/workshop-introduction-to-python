{
 "cells": [
  {
   "cell_type": "markdown",
   "id": "3eba3350",
   "metadata": {},
   "source": [
    "# Introduction to python"
   ]
  },
  {
   "cell_type": "markdown",
   "id": "5d74aa37",
   "metadata": {},
   "source": [
    "## Some simple statements"
   ]
  },
  {
   "cell_type": "code",
   "execution_count": 7,
   "id": "5185d835",
   "metadata": {},
   "outputs": [
    {
     "data": {
      "text/plain": [
       "4"
      ]
     },
     "execution_count": 7,
     "metadata": {},
     "output_type": "execute_result"
    }
   ],
   "source": [
    "2+2"
   ]
  },
  {
   "cell_type": "code",
   "execution_count": 8,
   "id": "2001488b",
   "metadata": {},
   "outputs": [
    {
     "name": "stdout",
     "output_type": "stream",
     "text": [
      "Hello World\n"
     ]
    }
   ],
   "source": [
    "print(\"Hello World\")"
   ]
  },
  {
   "cell_type": "markdown",
   "id": "57cf0c1b",
   "metadata": {},
   "source": [
    "## Variables, values and their types"
   ]
  },
  {
   "cell_type": "code",
   "execution_count": 11,
   "id": "8037c6e5",
   "metadata": {},
   "outputs": [],
   "source": [
    "text = \"Data Carpentry\"\n",
    "number = 42\n",
    "pi_value = 3.141592653589793238462643383279502884197"
   ]
  },
  {
   "cell_type": "code",
   "execution_count": 17,
   "id": "05e46e0e",
   "metadata": {},
   "outputs": [
    {
     "data": {
      "text/plain": [
       "'Data Carpentry'"
      ]
     },
     "execution_count": 17,
     "metadata": {},
     "output_type": "execute_result"
    }
   ],
   "source": [
    "text"
   ]
  },
  {
   "cell_type": "code",
   "execution_count": 20,
   "id": "4f3d26bd",
   "metadata": {},
   "outputs": [
    {
     "data": {
      "text/plain": [
       "str"
      ]
     },
     "execution_count": 20,
     "metadata": {},
     "output_type": "execute_result"
    }
   ],
   "source": [
    "type(text)"
   ]
  },
  {
   "cell_type": "code",
   "execution_count": 21,
   "id": "bd36a502",
   "metadata": {},
   "outputs": [
    {
     "data": {
      "text/plain": [
       "42"
      ]
     },
     "execution_count": 21,
     "metadata": {},
     "output_type": "execute_result"
    }
   ],
   "source": [
    "number"
   ]
  },
  {
   "cell_type": "code",
   "execution_count": 22,
   "id": "281b6dad",
   "metadata": {},
   "outputs": [
    {
     "data": {
      "text/plain": [
       "int"
      ]
     },
     "execution_count": 22,
     "metadata": {},
     "output_type": "execute_result"
    }
   ],
   "source": [
    "type(number)"
   ]
  },
  {
   "cell_type": "markdown",
   "id": "d22b6cb1",
   "metadata": {},
   "source": [
    "## Output versus printing\n",
    "In this example we first print the number and then call the variable again:"
   ]
  },
  {
   "cell_type": "code",
   "execution_count": 23,
   "id": "b1af2ccb",
   "metadata": {},
   "outputs": [
    {
     "name": "stdout",
     "output_type": "stream",
     "text": [
      "42\n"
     ]
    },
    {
     "data": {
      "text/plain": [
       "42"
      ]
     },
     "execution_count": 23,
     "metadata": {},
     "output_type": "execute_result"
    }
   ],
   "source": [
    "print(number)\n",
    "number"
   ]
  },
  {
   "cell_type": "markdown",
   "id": "d796e69f",
   "metadata": {},
   "source": [
    "Now we do it the other way around:"
   ]
  },
  {
   "cell_type": "code",
   "execution_count": 25,
   "id": "412233e2",
   "metadata": {},
   "outputs": [
    {
     "name": "stdout",
     "output_type": "stream",
     "text": [
      "42\n"
     ]
    }
   ],
   "source": [
    "number\n",
    "print(number)"
   ]
  },
  {
   "cell_type": "markdown",
   "id": "5f893d56",
   "metadata": {},
   "source": [
    "The interpreter does not output the value of the variable unless it is the very last line in an input field. In general `print` is the only way to print output to the screen when you are not working in an interactive environment as Jupyter, but when you are working with scripts.\n",
    "Rule of thumb: use output for quick checking while developing your Jupyter notebook, use print for all output that needs to be there while running a Jupyter notebook."
   ]
  },
  {
   "cell_type": "code",
   "execution_count": 28,
   "id": "d9db4244",
   "metadata": {},
   "outputs": [
    {
     "name": "stdout",
     "output_type": "stream",
     "text": [
      "Sum:  4\n",
      "Multiply:  42\n",
      "Power:  65536\n",
      "Modulo:  3\n"
     ]
    }
   ],
   "source": [
    "summing = 2 + 2\n",
    "multiply = 6 * 7\n",
    "power = 2 ** 16\n",
    "modulo = 13 % 5\n",
    "\n",
    "print(\"Sum: \", summing)\n",
    "print(\"Multiply: \", multiply)\n",
    "print(\"Power: \", power)\n",
    "print(\"Modulo: \", modulo)"
   ]
  },
  {
   "cell_type": "markdown",
   "id": "250eeea8",
   "metadata": {},
   "source": [
    "## Operators"
   ]
  },
  {
   "cell_type": "code",
   "execution_count": 29,
   "id": "e5ecbd0a",
   "metadata": {},
   "outputs": [
    {
     "name": "stdout",
     "output_type": "stream",
     "text": [
      "3 > 4 :  False\n"
     ]
    }
   ],
   "source": [
    "compare = 3 > 4\n",
    "print(\"3 > 4 : \", compare)"
   ]
  },
  {
   "cell_type": "code",
   "execution_count": 31,
   "id": "248f232e",
   "metadata": {},
   "outputs": [
    {
     "data": {
      "text/plain": [
       "True"
      ]
     },
     "execution_count": 31,
     "metadata": {},
     "output_type": "execute_result"
    }
   ],
   "source": [
    "True or False"
   ]
  },
  {
   "cell_type": "code",
   "execution_count": 32,
   "id": "1e6a3cf7",
   "metadata": {},
   "outputs": [
    {
     "data": {
      "text/plain": [
       "False"
      ]
     },
     "execution_count": 32,
     "metadata": {},
     "output_type": "execute_result"
    }
   ],
   "source": [
    "True and False"
   ]
  },
  {
   "cell_type": "code",
   "execution_count": 33,
   "id": "6da91f6c",
   "metadata": {},
   "outputs": [
    {
     "data": {
      "text/plain": [
       "False"
      ]
     },
     "execution_count": 33,
     "metadata": {},
     "output_type": "execute_result"
    }
   ],
   "source": [
    "True == compare"
   ]
  },
  {
   "cell_type": "markdown",
   "id": "3e6d1053",
   "metadata": {},
   "source": [
    "## The if-statement"
   ]
  },
  {
   "cell_type": "markdown",
   "id": "fb4caf19",
   "metadata": {},
   "source": [
    "## Lists and Tuples"
   ]
  },
  {
   "cell_type": "markdown",
   "id": "fa0bcd43",
   "metadata": {},
   "source": [
    "## Dictionaries"
   ]
  },
  {
   "cell_type": "code",
   "execution_count": null,
   "id": "4d665400",
   "metadata": {},
   "outputs": [],
   "source": []
  },
  {
   "cell_type": "markdown",
   "id": "36b72ae0",
   "metadata": {},
   "source": [
    "## The for-loop"
   ]
  },
  {
   "cell_type": "code",
   "execution_count": null,
   "id": "49d5f8ef",
   "metadata": {},
   "outputs": [],
   "source": []
  },
  {
   "cell_type": "markdown",
   "id": "ea2de90a",
   "metadata": {},
   "source": [
    "## Exercises\n",
    "### Exercise 0\n",
    "Try to run this code. Why is there no output?"
   ]
  },
  {
   "cell_type": "code",
   "execution_count": 37,
   "id": "389852b6",
   "metadata": {},
   "outputs": [],
   "source": [
    "x = 6\n",
    "apple = \"apple\""
   ]
  },
  {
   "cell_type": "markdown",
   "id": "78e09296",
   "metadata": {},
   "source": [
    "### Exercise 1\n",
    "1. Calculate: One plus five divided by nine.\n",
    "2. Assign the result of the calculation to a variable.\n",
    "3. Test  if the result is larger than one.\n",
    "4. Round off the result to one decimal. Use the function `round`."
   ]
  },
  {
   "cell_type": "code",
   "execution_count": 38,
   "id": "f7e49006",
   "metadata": {},
   "outputs": [
    {
     "data": {
      "text/plain": [
       "0.7"
      ]
     },
     "execution_count": 38,
     "metadata": {},
     "output_type": "execute_result"
    }
   ],
   "source": [
    "s = (1+5)/9\n",
    "round(s, 1)"
   ]
  },
  {
   "cell_type": "markdown",
   "id": "3ff30e1b",
   "metadata": {},
   "source": [
    "### Exercise 2\n",
    "Predict the results:"
   ]
  },
  {
   "cell_type": "code",
   "execution_count": 39,
   "id": "1e69193b",
   "metadata": {},
   "outputs": [
    {
     "data": {
      "text/plain": [
       "True"
      ]
     },
     "execution_count": 39,
     "metadata": {},
     "output_type": "execute_result"
    }
   ],
   "source": [
    "5==5\n",
    "5==None\n",
    "None==None"
   ]
  },
  {
   "cell_type": "markdown",
   "id": "b0e24cca",
   "metadata": {},
   "source": [
    "### Exercise 3\n",
    "Meet Ann, Bob, Chloe, and Dan. \n",
    "1. Create a list with their names. Save the list as \"name\".\n",
    "\n",
    "2.  How old are Ann, Bob, Chloe, and Dan? You decide! Design a numeric list with their respective ages. Save it as \"age\".\n",
    "\n",
    "3.  What is their average age? (Use the function `sum` to sum up their cumulative ages, you can use `len(ages)` to get the number of elements in a list)"
   ]
  },
  {
   "cell_type": "code",
   "execution_count": 44,
   "id": "b5d89097",
   "metadata": {},
   "outputs": [
    {
     "data": {
      "text/plain": [
       "19.0"
      ]
     },
     "execution_count": 44,
     "metadata": {},
     "output_type": "execute_result"
    }
   ],
   "source": [
    "name = [\"Ann\", \"Bob\", \"Chloe\", \"Dan\"]\n",
    "age = [3, 30, 41, 2]\n",
    "sum(age)/len(age)"
   ]
  },
  {
   "cell_type": "markdown",
   "id": "ce4de436",
   "metadata": {},
   "source": [
    "### Exercise 4\n",
    "1.  Return only the first number in the list age.\n",
    "2.  Return the 2nd and 4th name in your list name.\n",
    "3.  Return only ages under 30 from your list age.\n",
    "4.  Return the name \"Chloe\" from the list name."
   ]
  },
  {
   "cell_type": "code",
   "execution_count": 52,
   "id": "98afdc25",
   "metadata": {},
   "outputs": [
    {
     "data": {
      "text/plain": [
       "'Chloe'"
      ]
     },
     "execution_count": 52,
     "metadata": {},
     "output_type": "execute_result"
    }
   ],
   "source": [
    "age[0]\n",
    "[age[1], age[3]]\n",
    "[a for a in age if a < 30]\n",
    "[n for n in name if n == \"Chloe\"] #or\n",
    "name[name.index(\"Chloe\")]"
   ]
  },
  {
   "cell_type": "markdown",
   "id": "beed22df",
   "metadata": {},
   "source": [
    "### Exercise 5\n",
    "Make an if statement that tests if a number is even, and saves the classification in a variable called number_class."
   ]
  },
  {
   "cell_type": "code",
   "execution_count": 61,
   "id": "2f89fb58",
   "metadata": {},
   "outputs": [
    {
     "name": "stdout",
     "output_type": "stream",
     "text": [
      "5 is odd\n"
     ]
    }
   ],
   "source": [
    "number = 5\n",
    "if number%2 == 0:\n",
    "    number_class = \"even\"\n",
    "else:\n",
    "    number_class = \"odd\"\n",
    "print(number, \"is\", number_class)"
   ]
  },
  {
   "cell_type": "markdown",
   "id": "83af91ef",
   "metadata": {},
   "source": [
    "### Exercise 6\n",
    "Turn the if statement from the last exercise into a function. Let the user provide the value for number, and return the number_class."
   ]
  },
  {
   "cell_type": "code",
   "execution_count": 63,
   "id": "e6957d6d",
   "metadata": {},
   "outputs": [],
   "source": [
    "def even_or_odd(number):\n",
    "    if number%2 == 0:\n",
    "        number_class = \"even\"\n",
    "    else:\n",
    "        number_class = \"odd\"\n",
    "    return number_class"
   ]
  },
  {
   "cell_type": "code",
   "execution_count": 65,
   "id": "7faddd30",
   "metadata": {},
   "outputs": [
    {
     "name": "stdout",
     "output_type": "stream",
     "text": [
      "5 is odd\n"
     ]
    }
   ],
   "source": [
    "number = 5\n",
    "print(number, \"is\", even_or_odd(number))"
   ]
  },
  {
   "cell_type": "code",
   "execution_count": null,
   "id": "bbf48479",
   "metadata": {},
   "outputs": [],
   "source": []
  }
 ],
 "metadata": {
  "kernelspec": {
   "display_name": "Python 3 (ipykernel)",
   "language": "python",
   "name": "python3"
  },
  "language_info": {
   "codemirror_mode": {
    "name": "ipython",
    "version": 3
   },
   "file_extension": ".py",
   "mimetype": "text/x-python",
   "name": "python",
   "nbconvert_exporter": "python",
   "pygments_lexer": "ipython3",
   "version": "3.10.8"
  }
 },
 "nbformat": 4,
 "nbformat_minor": 5
}
