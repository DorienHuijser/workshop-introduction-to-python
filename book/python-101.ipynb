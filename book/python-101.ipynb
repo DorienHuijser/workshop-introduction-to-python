{
 "cells": [
  {
   "cell_type": "markdown",
   "id": "3eba3350",
   "metadata": {},
   "source": [
    "# Introduction to python"
   ]
  },
  {
   "cell_type": "markdown",
   "id": "5d74aa37",
   "metadata": {},
   "source": [
    "## Some simple statements\n",
    "We are working interactively with the python interpreter. Here you see that you can use it simply as a calculator"
   ]
  },
  {
   "cell_type": "code",
   "execution_count": null,
   "id": "7f3a65ff",
   "metadata": {},
   "outputs": [],
   "source": [
    "2+2"
   ]
  },
  {
   "cell_type": "markdown",
   "id": "79db2663",
   "metadata": {},
   "source": [
    "We can also print text to the screen. *Note*, that text (strings) alsways have to be surrounded by `\"` or `'`."
   ]
  },
  {
   "cell_type": "code",
   "execution_count": null,
   "id": "00f2b458",
   "metadata": {},
   "outputs": [],
   "source": [
    "print(\"Hello World\")"
   ]
  },
  {
   "cell_type": "markdown",
   "id": "57cf0c1b",
   "metadata": {},
   "source": [
    "## Variables, values and their types\n",
    "To keep the information we want to work with, we can assign values to variables. This is done with the `=` operator.\n",
    "In Python, variable names:\n",
    "- can include letters, digits, and underscores\n",
    "- cannot start with a digit\n",
    "- are case sensitive."
   ]
  },
  {
   "cell_type": "code",
   "execution_count": null,
   "id": "8037c6e5",
   "metadata": {},
   "outputs": [],
   "source": [
    "text = \"Data Carpentry\"\n",
    "number = 42\n",
    "pi_value = 3.141592653589793238462643383279502884197"
   ]
  },
  {
   "cell_type": "markdown",
   "id": "00a892eb",
   "metadata": {},
   "source": [
    "Python knows various types of data. Three common ones are:\n",
    "\n",
    "- integer numbers\n",
    "- floating point numbers, and\n",
    "- strings.\n",
    "\n",
    "In the example above, variable number an integer value of 42 while pi_value is a floating point number and text is of type string (str)."
   ]
  },
  {
   "cell_type": "code",
   "execution_count": null,
   "id": "05e46e0e",
   "metadata": {},
   "outputs": [],
   "source": [
    "text"
   ]
  },
  {
   "cell_type": "code",
   "execution_count": null,
   "id": "4f3d26bd",
   "metadata": {},
   "outputs": [],
   "source": [
    "type(text)"
   ]
  },
  {
   "cell_type": "code",
   "execution_count": null,
   "id": "bd36a502",
   "metadata": {},
   "outputs": [],
   "source": [
    "number"
   ]
  },
  {
   "cell_type": "code",
   "execution_count": null,
   "id": "281b6dad",
   "metadata": {},
   "outputs": [],
   "source": [
    "type(number)"
   ]
  },
  {
   "cell_type": "code",
   "execution_count": null,
   "id": "64843703",
   "metadata": {},
   "outputs": [],
   "source": [
    "pi_value"
   ]
  },
  {
   "cell_type": "code",
   "execution_count": null,
   "id": "46ef015a",
   "metadata": {},
   "outputs": [],
   "source": [
    "type(pi_value)"
   ]
  },
  {
   "cell_type": "markdown",
   "id": "7934fba6",
   "metadata": {},
   "source": [
    "You can see that float is not precise enough to capture all of the digits after the dot we gave it. It stops at 15 positions."
   ]
  },
  {
   "cell_type": "markdown",
   "id": "d22b6cb1",
   "metadata": {},
   "source": [
    "## Output versus printing\n",
    "In this example we first print the number and then call the variable again:"
   ]
  },
  {
   "cell_type": "code",
   "execution_count": null,
   "id": "b1af2ccb",
   "metadata": {},
   "outputs": [],
   "source": [
    "print(number)\n",
    "number"
   ]
  },
  {
   "cell_type": "markdown",
   "id": "d796e69f",
   "metadata": {},
   "source": [
    "Now we do it the other way around:"
   ]
  },
  {
   "cell_type": "code",
   "execution_count": null,
   "id": "412233e2",
   "metadata": {},
   "outputs": [],
   "source": [
    "number\n",
    "print(number)"
   ]
  },
  {
   "cell_type": "markdown",
   "id": "5f893d56",
   "metadata": {},
   "source": [
    "The interpreter does not output the value of the variable unless it is the very last line in an input field. In general `print` is the only way to print output to the screen when you are not working in an interactive environment as Jupyter, but when you are working with scripts.\n",
    "Rule of thumb: use output for quick checking while developing your Jupyter notebook, use print for all output that needs to be there while running a Jupyter notebook."
   ]
  },
  {
   "cell_type": "markdown",
   "id": "a6af2a4a",
   "metadata": {},
   "source": [
    "## Mathematical operations"
   ]
  },
  {
   "cell_type": "code",
   "execution_count": null,
   "id": "d9db4244",
   "metadata": {},
   "outputs": [],
   "source": [
    "summing = 2 + 2\n",
    "multiply = 2 * 7\n",
    "power = 2 ** 16\n",
    "modulo = 13 % 5\n",
    "\n",
    "print(\"Sum: \", summing)\n",
    "print(\"Multiply: \", multiply)\n",
    "print(\"Power: \", power)\n",
    "print(\"Modulo: \", modulo)"
   ]
  },
  {
   "cell_type": "markdown",
   "id": "b61b61fd",
   "metadata": {},
   "source": [
    "Once we have data stored with variable names, we can make use of it in calculations."
   ]
  },
  {
   "cell_type": "code",
   "execution_count": null,
   "id": "1bc3f2fc",
   "metadata": {},
   "outputs": [],
   "source": [
    "output = number * pi_value\n",
    "print(output)"
   ]
  },
  {
   "cell_type": "markdown",
   "id": "250eeea8",
   "metadata": {},
   "source": [
    "## Logical values, operators and variables\n",
    "There are two logical values, *true* and *false*. Inpython they are decoded as the values `True` and `False`. Note: here these two are really distinct values and no strings!"
   ]
  },
  {
   "cell_type": "code",
   "execution_count": null,
   "id": "878b1de4",
   "metadata": {},
   "outputs": [],
   "source": [
    "True"
   ]
  },
  {
   "cell_type": "code",
   "execution_count": null,
   "id": "d6143053",
   "metadata": {},
   "outputs": [],
   "source": [
    "False"
   ]
  },
  {
   "cell_type": "markdown",
   "id": "8d76802a",
   "metadata": {},
   "source": [
    "With the logical operators `>`, `<`, `==`, `and`, `or` and  `not` we can now compare variables and create logical statements."
   ]
  },
  {
   "cell_type": "code",
   "execution_count": null,
   "id": "57accc50-7e82-4541-ae47-02a198fa0606",
   "metadata": {},
   "outputs": [],
   "source": [
    "compare = 3 > 4\n",
    "print(\"3 > 4 : \", compare)"
   ]
  },
  {
   "cell_type": "code",
   "execution_count": null,
   "id": "2f36bacd-a602-49d6-9546-5b06d4b5629d",
   "metadata": {},
   "outputs": [],
   "source": [
    "not_compare = not compare\n",
    "print(\"not(3 > 4): \", not_compare)"
   ]
  },
  {
   "cell_type": "code",
   "execution_count": null,
   "id": "a1adbdd1-faf3-4387-98a0-c23f00e9885f",
   "metadata": {},
   "outputs": [],
   "source": [
    "compare or not_compare"
   ]
  },
  {
   "cell_type": "code",
   "execution_count": null,
   "id": "c610a59a-4d65-4583-ab3b-5e9804a3bd53",
   "metadata": {},
   "outputs": [],
   "source": [
    "compare and not_compare"
   ]
  },
  {
   "cell_type": "code",
   "execution_count": null,
   "id": "248f232e",
   "metadata": {},
   "outputs": [],
   "source": [
    "True or False"
   ]
  },
  {
   "cell_type": "code",
   "execution_count": null,
   "id": "1e6a3cf7",
   "metadata": {},
   "outputs": [],
   "source": [
    "True and False"
   ]
  },
  {
   "cell_type": "code",
   "execution_count": null,
   "id": "6da91f6c",
   "metadata": {},
   "outputs": [],
   "source": [
    "True == compare"
   ]
  },
  {
   "cell_type": "markdown",
   "id": "ea1a782b",
   "metadata": {},
   "source": [
    "## Built-in Python functions\n",
    "To carry out common tasks with data and variables in Python, the language provides us with several built-in functions. To display information to the screen, we use the print function:"
   ]
  },
  {
   "cell_type": "code",
   "execution_count": null,
   "id": "066a5478",
   "metadata": {},
   "outputs": [],
   "source": [
    "print(pi_value)"
   ]
  },
  {
   "cell_type": "markdown",
   "id": "aa9d09ef",
   "metadata": {},
   "source": [
    "When we want to make use of a function, referred to as calling the function, we follow its name by parentheses. The parentheses are important: if you leave them off, the function doesn’t actually run! Sometimes you will include values or variables inside the parentheses for the function to use. In the case of print, we use the parentheses to tell the function what value we want to display. We will learn more about how functions work and how to create our own in later episodes.\n",
    "\n",
    "We can display multiple things at once using only one print call:"
   ]
  },
  {
   "cell_type": "code",
   "execution_count": null,
   "id": "71f75fc1",
   "metadata": {},
   "outputs": [],
   "source": [
    "compare = 3 > 4\n",
    "print(\"3 > 4 : \", compare)\n",
    "print(number, \"times\", pi_value, \"equals\", number * pi_value)"
   ]
  },
  {
   "cell_type": "markdown",
   "id": "3e6d1053",
   "metadata": {},
   "source": [
    "## The if-statement\n",
    "We  saw how to create logical statements. In the if-clause we use these as conditional statements to carry some tasks."
   ]
  },
  {
   "cell_type": "code",
   "execution_count": null,
   "id": "a1aa1488",
   "metadata": {},
   "outputs": [],
   "source": [
    "num = 37\n",
    "if num > 100:\n",
    "    print('greater')\n",
    "else:\n",
    "    print('not greater')\n",
    "print('done')"
   ]
  },
  {
   "cell_type": "code",
   "execution_count": null,
   "id": "9d290217",
   "metadata": {},
   "outputs": [],
   "source": [
    "num = -3\n",
    "\n",
    "if num > 0:\n",
    "    print(num, 'is positive')\n",
    "elif num == 0:\n",
    "    print(num, 'is zero')\n",
    "else:\n",
    "    print(num, 'is negative')"
   ]
  },
  {
   "cell_type": "markdown",
   "id": "4d724d00",
   "metadata": {},
   "source": [
    "Along with the > and == operators we have already used for comparing values in our conditionals, there are a few more options to know about:\n",
    "\n",
    "- \\>: greater than\n",
    "- \\<: less than\n",
    "- ==: equal to\n",
    "- !=: does not equal\n",
    "- \\>=: greater than or equal to\n",
    "- \\<=: less than or equal to\n",
    "\n",
    "We can also combine tests using `and` and `or`. `or` is  true if one part is true:"
   ]
  },
  {
   "cell_type": "code",
   "execution_count": null,
   "id": "c67b6d9c",
   "metadata": {},
   "outputs": [],
   "source": [
    "if (1 < 0) or (1 >= 0):\n",
    "    print('at least one test is true')"
   ]
  },
  {
   "cell_type": "markdown",
   "id": "a84f2112",
   "metadata": {},
   "source": [
    "While `and` is only true if both parts are true"
   ]
  },
  {
   "cell_type": "code",
   "execution_count": null,
   "id": "660a283a",
   "metadata": {},
   "outputs": [],
   "source": [
    "if (1 < 0) and (1 >= 0):\n",
    "    print('both tests are true')"
   ]
  },
  {
   "cell_type": "markdown",
   "id": "fb4caf19",
   "metadata": {},
   "source": [
    "## Lists and Tuples\n",
    "Lists are a common data structure to hold an ordered sequence of elements. We create a list by putting values inside square brackets and separating the values with commas. Each element can be accessed by an index. Note that Python indexes start with 0 instead of 1:"
   ]
  },
  {
   "cell_type": "code",
   "execution_count": null,
   "id": "dd45c27e-01be-4098-b460-b599588116bf",
   "metadata": {},
   "outputs": [],
   "source": [
    "numbers = [1, 2, 3]\n",
    "print(numbers)\n",
    "print(\"The first element in the list is: \", numbers[0])"
   ]
  },
  {
   "cell_type": "code",
   "execution_count": null,
   "id": "116d2f00-5408-4c1b-9256-23a539e5d70f",
   "metadata": {},
   "outputs": [],
   "source": [
    "type(numbers)"
   ]
  },
  {
   "cell_type": "code",
   "execution_count": null,
   "id": "b992f7e9-303d-4519-9db4-7f4639c3c469",
   "metadata": {},
   "outputs": [],
   "source": [
    "len(numbers)"
   ]
  },
  {
   "cell_type": "code",
   "execution_count": null,
   "id": "3598a902-4050-480e-a32b-906d32e8f503",
   "metadata": {},
   "outputs": [],
   "source": [
    "numbers[3]"
   ]
  },
  {
   "cell_type": "code",
   "execution_count": null,
   "id": "91ab00dd-82d6-4bb4-ab70-d05a58321aed",
   "metadata": {},
   "outputs": [],
   "source": [
    "numbers[-1]"
   ]
  },
  {
   "cell_type": "markdown",
   "id": "b2af74e5",
   "metadata": {},
   "source": [
    "Yes, we can use negative numbers as indices in Python. When we do so, the index -1 gives us the last element in the list, -2 the second to last, and so on. Because of this, numbers[3] and numbers[-1] point to the same element here."
   ]
  },
  {
   "cell_type": "code",
   "execution_count": null,
   "id": "487fffa5-baea-4d2a-8f17-599c49b99bd4",
   "metadata": {},
   "outputs": [],
   "source": [
    "numbers[2] == numbers[-1]"
   ]
  },
  {
   "cell_type": "code",
   "execution_count": null,
   "id": "5921ff34-9b29-41f8-8b79-f7c83825a1bc",
   "metadata": {},
   "outputs": [],
   "source": [
    "words = [\"cat\", \"dog\", \"horse\"]\n",
    "words[1]"
   ]
  },
  {
   "cell_type": "code",
   "execution_count": null,
   "id": "54931563-062d-4c08-bc74-8531e7e77fa4",
   "metadata": {},
   "outputs": [],
   "source": [
    "type(words)"
   ]
  },
  {
   "cell_type": "code",
   "execution_count": null,
   "id": "8af1ff46-79b8-4267-9fd6-b18675a32176",
   "metadata": {},
   "outputs": [],
   "source": [
    "if type(words) == type(numbers):\n",
    "    print(\"these variables have the same type!\")"
   ]
  },
  {
   "cell_type": "code",
   "execution_count": null,
   "id": "278297c8-9f31-4d6a-9240-d48f2ef58c46",
   "metadata": {},
   "outputs": [],
   "source": [
    "newlist = [\"cat\", 1, \"horse\"]"
   ]
  },
  {
   "cell_type": "code",
   "execution_count": null,
   "id": "60a83e89-d957-4c64-992d-bb3addb0f379",
   "metadata": {},
   "outputs": [],
   "source": [
    "type(newlist[0])"
   ]
  },
  {
   "cell_type": "code",
   "execution_count": null,
   "id": "119ef66d-9ede-403f-9cec-53519279309f",
   "metadata": {},
   "outputs": [],
   "source": [
    "type(newlist[1])"
   ]
  },
  {
   "cell_type": "code",
   "execution_count": null,
   "id": "4b606624-c1d8-4fd2-a5e4-99d07ce16fb6",
   "metadata": {},
   "outputs": [],
   "source": [
    "numbers.append(4)\n",
    "print(numbers)"
   ]
  },
  {
   "cell_type": "code",
   "execution_count": null,
   "id": "0cfd9b28-3e7e-4dfb-9c62-20ddfabc84c0",
   "metadata": {},
   "outputs": [],
   "source": [
    "numbers[2] = 333\n",
    "print(numbers)"
   ]
  },
  {
   "cell_type": "markdown",
   "id": "5c91cc82",
   "metadata": {},
   "source": [
    "There is one important difference between lists and strings: we can change the values in a list, but we cannot change individual characters in a string. For example:"
   ]
  },
  {
   "cell_type": "code",
   "execution_count": null,
   "id": "54d4445c",
   "metadata": {},
   "outputs": [],
   "source": [
    "word = \"Cat\"\n",
    "print(word[0])\n",
    "word[0] = c"
   ]
  },
  {
   "cell_type": "markdown",
   "id": "12906bc8",
   "metadata": {},
   "source": [
    "A tuple is similar to a list in that it’s an ordered sequence of elements. However, tuples can not be changed once created (they are “immutable”). Tuples are created by placing comma-separated values inside parentheses `()`."
   ]
  },
  {
   "cell_type": "code",
   "execution_count": null,
   "id": "9d5eb778-c201-492c-85c4-2c2b4fdcc553",
   "metadata": {},
   "outputs": [],
   "source": [
    "# Tuples use parentheses\n",
    "a_tuple = (1, 2, 3)\n",
    "another_tuple = ('blue', 'green', 'red')\n",
    "\n",
    "# Note: lists use square brackets\n",
    "a_list = [1, 2, 3]\n"
   ]
  },
  {
   "cell_type": "code",
   "execution_count": null,
   "id": "9cbb5fc6-dccb-4642-8bff-a6bc6ddbf589",
   "metadata": {},
   "outputs": [],
   "source": [
    "a_list[1] = 5\n",
    "print(a_list)"
   ]
  },
  {
   "cell_type": "code",
   "execution_count": null,
   "id": "a947a9b1-3c29-4f26-8b8f-e73ed24b2719",
   "metadata": {},
   "outputs": [],
   "source": [
    "a_tuple[2] = 5\n",
    "print(a_tuple)"
   ]
  },
  {
   "cell_type": "markdown",
   "id": "d0730def",
   "metadata": {},
   "source": [
    "Here we see that once the tuple is created, we cannot replace any of the values inside of the tuple."
   ]
  },
  {
   "cell_type": "code",
   "execution_count": null,
   "id": "a69d8a6b-c210-4a5b-b992-e8e0ff100f5e",
   "metadata": {},
   "outputs": [],
   "source": [
    "type(a_tuple)"
   ]
  },
  {
   "cell_type": "markdown",
   "id": "fa0bcd43",
   "metadata": {},
   "source": [
    "## Dictionaries\n",
    "A dictionary is a container that holds pairs of objects - keys and values."
   ]
  },
  {
   "cell_type": "code",
   "execution_count": 31,
   "id": "af7de939-cb7e-4b61-84ff-099fcb3aa1c3",
   "metadata": {},
   "outputs": [
    {
     "data": {
      "text/plain": [
       "{'one': 'first', 'two': 'second'}"
      ]
     },
     "execution_count": 31,
     "metadata": {},
     "output_type": "execute_result"
    }
   ],
   "source": [
    "my_dict = {'one': 'first', 'two': 'second'}\n",
    "my_dict"
   ]
  },
  {
   "cell_type": "markdown",
   "id": "1ce18694",
   "metadata": {},
   "source": [
    "We can access dictionary items by their key:"
   ]
  },
  {
   "cell_type": "code",
   "execution_count": 32,
   "id": "0dc3089d-8e62-4f7b-a1b4-1213256e1736",
   "metadata": {},
   "outputs": [
    {
     "data": {
      "text/plain": [
       "'first'"
      ]
     },
     "execution_count": 32,
     "metadata": {},
     "output_type": "execute_result"
    }
   ],
   "source": [
    "my_dict['one']"
   ]
  },
  {
   "cell_type": "markdown",
   "id": "9d34f2aa",
   "metadata": {},
   "source": [
    "And we can add new key-value pairs like that:"
   ]
  },
  {
   "cell_type": "code",
   "execution_count": 33,
   "id": "f79a1c16-8bc9-4447-b9c5-11b7a75c6de4",
   "metadata": {},
   "outputs": [
    {
     "data": {
      "text/plain": [
       "{'one': 'first', 'two': 'second', 'third': 'three'}"
      ]
     },
     "execution_count": 33,
     "metadata": {},
     "output_type": "execute_result"
    }
   ],
   "source": [
    "my_dict['third'] = 'three'\n",
    "my_dict"
   ]
  },
  {
   "cell_type": "markdown",
   "id": "1043ec01",
   "metadata": {},
   "source": [
    "Dictionary items are ordered, changeable, and do not allow duplicates.\n",
    "Dictionary items are presented in key:value pairs."
   ]
  },
  {
   "cell_type": "code",
   "execution_count": 35,
   "id": "bf9cdfe6",
   "metadata": {},
   "outputs": [
    {
     "data": {
      "text/plain": [
       "{'one': 'first', 'two': 'second', 'third': 'three'}"
      ]
     },
     "execution_count": 35,
     "metadata": {},
     "output_type": "execute_result"
    }
   ],
   "source": [
    "my_dict['third'] = 'three'\n",
    "my_dict"
   ]
  },
  {
   "cell_type": "code",
   "execution_count": 39,
   "id": "85e1252b",
   "metadata": {},
   "outputs": [
    {
     "name": "stdout",
     "output_type": "stream",
     "text": [
      "Dictionary keys:  dict_keys(['one', 'two', 'third'])\n",
      "Dictionary values:  dict_values(['first', 'second', 'three'])\n",
      "Dictionary items (key, value):  dict_items([('one', 'first'), ('two', 'second'), ('third', 'three')])\n"
     ]
    }
   ],
   "source": [
    "print(\"Dictionary keys: \", my_dict.keys())\n",
    "print(\"Dictionary values: \", my_dict.values())\n",
    "print(\"Dictionary items (key, value): \", my_dict.items())"
   ]
  },
  {
   "cell_type": "markdown",
   "id": "07f1b819-f558-4566-ad6d-6c154d3e59c6",
   "metadata": {},
   "source": [
    "## For loops\n",
    "Let's have a look at our list again. One way to print each number is to use three print statements:"
   ]
  },
  {
   "cell_type": "code",
   "execution_count": null,
   "id": "0db2ec1b-18cf-4f98-a7e2-f0ae1edb048a",
   "metadata": {},
   "outputs": [],
   "source": [
    "numbers = [5, 6, 7]\n",
    "print(numbers[0])\n",
    "print(numbers[1])\n",
    "print(numbers[2])"
   ]
  },
  {
   "cell_type": "markdown",
   "id": "aba74de1",
   "metadata": {},
   "source": [
    "A better and more reliable way to print each element of a list is to loop over the list:"
   ]
  },
  {
   "cell_type": "code",
   "execution_count": null,
   "id": "3ad3e726-f819-4fba-a753-9b70875239fe",
   "metadata": {},
   "outputs": [],
   "source": [
    "for item in numbers:\n",
    "    print(item)"
   ]
  },
  {
   "cell_type": "markdown",
   "id": "b6f37810",
   "metadata": {},
   "source": [
    "The improved version uses a for loop to repeat an operation — in this case, printing — once for each thing in a sequence.\n",
    "If we want to also get the index, we can use the built-in function enumerate:"
   ]
  },
  {
   "cell_type": "code",
   "execution_count": 49,
   "id": "ae62df9f-8f62-415a-8642-69497b118828",
   "metadata": {},
   "outputs": [],
   "source": [
    "words = [\"cat\", \"dog\", \"horse\"]\n",
    "\n",
    "for index, item in enumerate(words):\n",
    "    print(index)\n",
    "    print(item)"
   ]
  },
  {
   "cell_type": "markdown",
   "id": "fc246d94",
   "metadata": {},
   "source": [
    "Let's take our dictionary from the previous section and inspect the dictionary items"
   ]
  },
  {
   "cell_type": "code",
   "execution_count": 42,
   "id": "9c13f5e0-008e-4f84-9414-9a0d7d5c0daa",
   "metadata": {},
   "outputs": [
    {
     "name": "stdout",
     "output_type": "stream",
     "text": [
      "('one', 'first') is of type <class 'tuple'>\n",
      "('two', 'second') is of type <class 'tuple'>\n",
      "('third', 'three') is of type <class 'tuple'>\n"
     ]
    }
   ],
   "source": [
    "for item in my_dict.items():\n",
    "    print(item, \"is of type\", type(item))"
   ]
  },
  {
   "cell_type": "markdown",
   "id": "655e7369",
   "metadata": {},
   "source": [
    "We can extract the keys and values from the items directly in the `for` statement:"
   ]
  },
  {
   "cell_type": "code",
   "execution_count": 43,
   "id": "9c238dad",
   "metadata": {},
   "outputs": [
    {
     "name": "stdout",
     "output_type": "stream",
     "text": [
      "one -> first\n",
      "two -> second\n",
      "third -> three\n"
     ]
    }
   ],
   "source": [
    "for key, value in my_dict.items():\n",
    "    print(key, \"->\", value)"
   ]
  },
  {
   "cell_type": "markdown",
   "id": "f3bfd9b9",
   "metadata": {},
   "source": [
    "## Functions\n",
    "We have already seen two built-in functions: `print`, `type`, `len`. And we have seen special functions that belong to a variable (python object) like `my_dict.items()`. There are more built-in functions e.g. for mathematical operations:"
   ]
  },
  {
   "cell_type": "code",
   "execution_count": null,
   "id": "a83f4408",
   "metadata": {},
   "outputs": [],
   "source": [
    "sum(numbers)"
   ]
  },
  {
   "cell_type": "markdown",
   "id": "3e7852a6",
   "metadata": {},
   "source": [
    "Please refer to https://docs.python.org/3/library/functions.html for more built-in functions.\n",
    "\n",
    "### Writing own functions\n",
    "We will now turn to writing own functions. When should you write your own function?\n",
    "1. If the functionality is not covered by an out-of-the-box function like the built-in functions or another python  package\n",
    "2. When code is getting pretty long, you can split it up into logical units\n",
    "3. When code is often reused, e.g. you are reading in tens of spreadsheets and you need to clean them all in the same way\n",
    "4. ...\n",
    "Python provides for this by letting us define things called ‘functions’ — a shorthand way of re-executing longer pieces of code. Let’s start by defining a function fahr_to_celsius that converts temperatures from Fahrenheit to Celsius:"
   ]
  },
  {
   "cell_type": "code",
   "execution_count": null,
   "id": "26b11914",
   "metadata": {},
   "outputs": [],
   "source": [
    "def fahr_to_celsius(temp):\n",
    "    return ((temp - 32) * (5/9))"
   ]
  },
  {
   "cell_type": "markdown",
   "id": "6c281d8e",
   "metadata": {},
   "source": [
    "The function definition opens with the keyword `def` followed by the name of the function (fahr_to_celsius) and a parenthesized list of parameter names (temp). The body of the function — the statements that are executed when it runs — is indented below the definition line. The body concludes with a `return` keyword followed by the return value.\n",
    "\n",
    "When we call the function, the values we pass to it are assigned to those variables so that we can use them inside the function. Inside the function, we use a return statement to send a result back to whoever asked for it.\n",
    "\n",
    "Let’s try running our function."
   ]
  },
  {
   "cell_type": "code",
   "execution_count": null,
   "id": "26748a14",
   "metadata": {},
   "outputs": [],
   "source": [
    "fahr_to_celsius(98)"
   ]
  },
  {
   "cell_type": "code",
   "execution_count": null,
   "id": "57103b9e",
   "metadata": {},
   "outputs": [],
   "source": [
    "print('freezing point of water:', fahr_to_celsius(32), 'C')\n",
    "print('boiling point of water:', fahr_to_celsius(212), 'C')"
   ]
  },
  {
   "cell_type": "markdown",
   "id": "7e5bef39",
   "metadata": {},
   "source": [
    "Here we directly opassed a value to the function. We can also call the function with a variable:"
   ]
  },
  {
   "cell_type": "code",
   "execution_count": null,
   "id": "5978ffee",
   "metadata": {},
   "outputs": [],
   "source": [
    "a = 0\n",
    "print(fahr_to_celsius(a))"
   ]
  },
  {
   "cell_type": "markdown",
   "id": "9e6d3a7b",
   "metadata": {},
   "source": [
    "What happens if you pass a variable name that is not defined yet?"
   ]
  },
  {
   "cell_type": "code",
   "execution_count": null,
   "id": "d637281d",
   "metadata": {},
   "outputs": [],
   "source": [
    "print(fahr_to_celsius(b))"
   ]
  }
 ],
 "metadata": {
  "kernelspec": {
   "display_name": "Python 3 (ipykernel)",
   "language": "python",
   "name": "python3"
  },
  "language_info": {
   "codemirror_mode": {
    "name": "ipython",
    "version": 3
   },
   "file_extension": ".py",
   "mimetype": "text/x-python",
   "name": "python",
   "nbconvert_exporter": "python",
   "pygments_lexer": "ipython3",
   "version": "3.10.8"
  }
 },
 "nbformat": 4,
 "nbformat_minor": 5
}
