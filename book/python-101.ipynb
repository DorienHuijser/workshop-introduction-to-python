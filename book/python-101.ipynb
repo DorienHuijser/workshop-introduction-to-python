{
 "cells": [
  {
   "cell_type": "raw",
   "id": "1678ee39-cec4-4af0-ac01-3f6b02e2ae71",
   "metadata": {},
   "source": [
    "---\n",
    "title: \"Introduction to python\"\n",
    "execute:   \n",
    "  enabled: true\n",
    "  error: true\n",
    "  freeze: auto\n",
    " ---"
   ]
  },
  {
   "cell_type": "markdown",
   "id": "3eba3350",
   "metadata": {},
   "source": [
    "# Introduction to python"
   ]
  },
  {
   "cell_type": "markdown",
   "id": "5d74aa37",
   "metadata": {
    "tags": []
   },
   "source": [
    "## Variables, values and their types\n",
    "\n",
    "The cell below contains Python code that can be executed by the Python interpreter. One of the most basic things that we can do with Python is to use it as a calculator:"
   ]
  },
  {
   "cell_type": "code",
   "execution_count": null,
   "id": "7f3a65ff",
   "metadata": {},
   "outputs": [],
   "source": [
    "2+2"
   ]
  },
  {
   "cell_type": "markdown",
   "id": "57cf0c1b",
   "metadata": {
    "tags": []
   },
   "source": [
    "Great, but there are many calculators. It gets more interesting when we use **variables** to store information. This is done with the `=` operator.\n",
    "In Python, variable names:\n",
    "- can include letters, digits, and underscores\n",
    "- cannot start with a digit\n",
    "- are case sensitive."
   ]
  },
  {
   "cell_type": "code",
   "execution_count": null,
   "id": "42b64edc-24ee-45f1-a4ec-e5ab2ce63298",
   "metadata": {},
   "outputs": [],
   "source": [
    "x = 3.0"
   ]
  },
  {
   "cell_type": "markdown",
   "id": "7ecdd74c-1d51-4ddb-92cb-b6ffb7aedcc7",
   "metadata": {},
   "source": [
    "Once assigned, variables can be used in new operations:"
   ]
  },
  {
   "cell_type": "code",
   "execution_count": null,
   "id": "7bc5b98d-8d18-4152-8873-5a6c776153c6",
   "metadata": {},
   "outputs": [],
   "source": [
    "y = 2.0\n",
    "x + y"
   ]
  },
  {
   "cell_type": "markdown",
   "id": "1570ecf7-5852-4a28-9237-6598e498b697",
   "metadata": {},
   "source": [
    "Python knows various types of data. Three common ones are:\n",
    "\n",
    "- integer numbers\n",
    "- floating point numbers\n",
    "- strings"
   ]
  },
  {
   "cell_type": "code",
   "execution_count": null,
   "id": "8037c6e5",
   "metadata": {},
   "outputs": [],
   "source": [
    "text = \"Data Carpentry\"\n",
    "number = 42\n",
    "pi_value = 3.14159265358"
   ]
  },
  {
   "cell_type": "markdown",
   "id": "b7fce770-138e-4b54-ad86-feb3cd22b0ae",
   "metadata": {},
   "source": [
    "In the example above, three variables are assigned. Variable `number` is an integer value of 42 while `pi_value` is a floating point number and `text` is of type string.\n",
    "\n",
    "Using the `type` command, it is possible to check the data type of a variable. "
   ]
  },
  {
   "cell_type": "code",
   "execution_count": null,
   "id": "05e46e0e",
   "metadata": {},
   "outputs": [],
   "source": [
    "text"
   ]
  },
  {
   "cell_type": "code",
   "execution_count": null,
   "id": "4f3d26bd",
   "metadata": {},
   "outputs": [],
   "source": [
    "type(text)"
   ]
  },
  {
   "cell_type": "code",
   "execution_count": null,
   "id": "bd36a502",
   "metadata": {},
   "outputs": [],
   "source": [
    "number"
   ]
  },
  {
   "cell_type": "code",
   "execution_count": null,
   "id": "281b6dad",
   "metadata": {},
   "outputs": [],
   "source": [
    "type(number)"
   ]
  },
  {
   "cell_type": "code",
   "execution_count": null,
   "id": "64843703",
   "metadata": {},
   "outputs": [],
   "source": [
    "pi_value"
   ]
  },
  {
   "cell_type": "code",
   "execution_count": null,
   "id": "46ef015a",
   "metadata": {},
   "outputs": [],
   "source": [
    "type(pi_value)"
   ]
  },
  {
   "cell_type": "markdown",
   "id": "d22b6cb1",
   "metadata": {},
   "source": [
    "## Output versus printing\n",
    "\n",
    "In the above examples, most of the times output is printed directly below the cell, but not always the output is printed and not all operations are printed. The `print` command can be used to control what is printed when. \n",
    "\n",
    "*Note*, that text (strings) always have to be surrounded by `\"` or `'`."
   ]
  },
  {
   "cell_type": "code",
   "execution_count": null,
   "id": "00f2b458",
   "metadata": {},
   "outputs": [],
   "source": [
    "print(\"Hello World\")"
   ]
  },
  {
   "cell_type": "markdown",
   "id": "79db2663",
   "metadata": {},
   "source": [
    "In the example below we first print the value of the variable `number` using the `print` command, and then call the variable:"
   ]
  },
  {
   "cell_type": "code",
   "execution_count": null,
   "id": "b1af2ccb",
   "metadata": {},
   "outputs": [],
   "source": [
    "print(number)\n",
    "number"
   ]
  },
  {
   "cell_type": "markdown",
   "id": "d796e69f",
   "metadata": {},
   "source": [
    "Now we do it the other way around:"
   ]
  },
  {
   "cell_type": "code",
   "execution_count": null,
   "id": "412233e2",
   "metadata": {},
   "outputs": [],
   "source": [
    "number\n",
    "print(number)"
   ]
  },
  {
   "cell_type": "markdown",
   "id": "5f893d56",
   "metadata": {},
   "source": [
    "When not using the `print` command, only the output of the last operation in the input cell is printed. If the last operation is the assignment of a variable, nothing will be printed. \n",
    "\n",
    "In general `print` is the only way to print output to the screen when you are not working in an interactive environment as Jupyter (as we are doing now).\n",
    "\n",
    "Rule of thumb: use the normal output for quick checking the output of an operation while developing in your Jupyter notebook, use `print` for printing output that still needs to be there in the future while your scripts get more complicated."
   ]
  },
  {
   "cell_type": "markdown",
   "id": "a6af2a4a",
   "metadata": {},
   "source": [
    "## Mathematical operations\n",
    "\n",
    "In Python you can do a wide variety of mathematical operations. A few examples:"
   ]
  },
  {
   "cell_type": "code",
   "execution_count": 1,
   "id": "d9db4244",
   "metadata": {},
   "outputs": [
    {
     "name": "stdout",
     "output_type": "stream",
     "text": [
      "Sum:  4\n",
      "Multiply:  14\n",
      "Power:  65536\n",
      "Modulo:  3\n"
     ]
    }
   ],
   "source": [
    "summing = 2 + 2\n",
    "multiply = 2 * 7\n",
    "power = 2 ** 16\n",
    "modulo = 13 % 5\n",
    "\n",
    "print(\"Sum: \", summing)\n",
    "print(\"Multiply: \", multiply)\n",
    "print(\"Power: \", power)\n",
    "print(\"Modulo: \", modulo)"
   ]
  },
  {
   "cell_type": "markdown",
   "id": "b61b61fd",
   "metadata": {},
   "source": [
    "Once we have data stored in variables, we can use the variables to do calculations."
   ]
  },
  {
   "cell_type": "code",
   "execution_count": 27,
   "id": "1bc3f2fc",
   "metadata": {},
   "outputs": [
    {
     "name": "stdout",
     "output_type": "stream",
     "text": [
      "131.94689145036\n"
     ]
    }
   ],
   "source": [
    "number = 42\n",
    "pi_value = 3.14159265358\n",
    "\n",
    "output = number * pi_value\n",
    "print(output)"
   ]
  },
  {
   "cell_type": "markdown",
   "id": "0712811b-dbc0-4159-94d8-433b2b1d3973",
   "metadata": {},
   "source": [
    "## Built-in Python functions\n",
    "To carry out common tasks with data and variables in Python, the language provides us with several built-in functions. Examples of built-in functions that we already used above are `print` and `type`. \n",
    "\n",
    "**Calling a function** \n",
    "When we want to make use of a function (referred to as calling the function), we type the name of the function followed by parentheses. Between the parentheses we can pass arguments.\n",
    "\n",
    "**Arguments**\n",
    "We typically provide a function with 'arguments' to tell python which values or variables are used to perform the body of the function. In the example below `type` is the function name and `pi_value` is the argument."
   ]
  },
  {
   "cell_type": "code",
   "execution_count": null,
   "id": "066a5478",
   "metadata": {},
   "outputs": [],
   "source": [
    "type(pi_value)"
   ]
  },
  {
   "cell_type": "markdown",
   "id": "41fbf522-ccca-4f00-bdc5-c64828faaa5b",
   "metadata": {},
   "source": [
    "Other useful built-in functions are `abs()`, `max()`, `min()`, `range()`. Find more built-in functions [here](https://docs.python.org/3/library/functions.html)."
   ]
  },
  {
   "cell_type": "code",
   "execution_count": 14,
   "id": "2830322f-db3e-4754-88c5-537f0ca59f54",
   "metadata": {},
   "outputs": [
    {
     "data": {
      "text/plain": [
       "3"
      ]
     },
     "execution_count": 14,
     "metadata": {},
     "output_type": "execute_result"
    }
   ],
   "source": [
    "max([1,2,3,2,1])"
   ]
  },
  {
   "cell_type": "markdown",
   "id": "250eeea8",
   "metadata": {
    "tags": []
   },
   "source": [
    "## Logical values and operators\n",
    "\n",
    "In programming you often need to know if something is `True` or `False`. `True` and `False` are called Boolean values and have their own data type (`bool` so they are not of type `str`!!). `True` and `False` are the only two Boolean values. "
   ]
  },
  {
   "cell_type": "code",
   "execution_count": 35,
   "id": "878b1de4",
   "metadata": {},
   "outputs": [
    {
     "data": {
      "text/plain": [
       "True"
      ]
     },
     "execution_count": 35,
     "metadata": {},
     "output_type": "execute_result"
    }
   ],
   "source": [
    "a = True\n",
    "a"
   ]
  },
  {
   "cell_type": "code",
   "execution_count": null,
   "id": "d6143053",
   "metadata": {},
   "outputs": [],
   "source": [
    "b = False\n",
    "b"
   ]
  },
  {
   "cell_type": "code",
   "execution_count": 2,
   "id": "18d579dc-1275-4b9f-8579-459aa9c194c4",
   "metadata": {},
   "outputs": [
    {
     "data": {
      "text/plain": [
       "bool"
      ]
     },
     "execution_count": 2,
     "metadata": {},
     "output_type": "execute_result"
    }
   ],
   "source": [
    "type(a)"
   ]
  },
  {
   "cell_type": "markdown",
   "id": "8d76802a",
   "metadata": {},
   "source": [
    "With the logical operators `>`, `<`, `==`, `and`, `or` and  `not` we can 'ask' if something is `True` or `False`. Why this is useful we will show later (see if-statements)."
   ]
  },
  {
   "cell_type": "code",
   "execution_count": 16,
   "id": "57accc50-7e82-4541-ae47-02a198fa0606",
   "metadata": {},
   "outputs": [
    {
     "data": {
      "text/plain": [
       "False"
      ]
     },
     "execution_count": 16,
     "metadata": {},
     "output_type": "execute_result"
    }
   ],
   "source": [
    "3 > 4"
   ]
  },
  {
   "cell_type": "markdown",
   "id": "79b0322a-47bc-46f4-bddf-d1c4c517414a",
   "metadata": {},
   "source": [
    "`3 > 4` is an example of a 'logical statement'. "
   ]
  },
  {
   "cell_type": "code",
   "execution_count": 17,
   "id": "9ee5e542-0b9f-489f-b542-9edc3cdf289e",
   "metadata": {},
   "outputs": [
    {
     "data": {
      "text/plain": [
       "True"
      ]
     },
     "execution_count": 17,
     "metadata": {},
     "output_type": "execute_result"
    }
   ],
   "source": [
    "4 > 3"
   ]
  },
  {
   "cell_type": "markdown",
   "id": "7cc35555-b3ef-4c55-b8a9-033cef9939e3",
   "metadata": {},
   "source": [
    "`==` is used to check if two values or variable are the same. If this is the case it will return `True`"
   ]
  },
  {
   "cell_type": "code",
   "execution_count": 21,
   "id": "2f36bacd-a602-49d6-9546-5b06d4b5629d",
   "metadata": {},
   "outputs": [
    {
     "data": {
      "text/plain": [
       "True"
      ]
     },
     "execution_count": 21,
     "metadata": {},
     "output_type": "execute_result"
    }
   ],
   "source": [
    "four = 4          # first we create a variable\n",
    "four == 4         # then we check if it is equal to 4"
   ]
  },
  {
   "cell_type": "markdown",
   "id": "27b5b291-f5f9-4bd5-8cda-da29f940ee3f",
   "metadata": {},
   "source": [
    "`!=` is used to check if two values or variable are **not** the same. If this is the case it will return `True`"
   ]
  },
  {
   "cell_type": "code",
   "execution_count": 33,
   "id": "84f8e1a5-f96d-450d-84e7-63aedf217400",
   "metadata": {},
   "outputs": [
    {
     "name": "stdout",
     "output_type": "stream",
     "text": [
      "Four is not equal to 5:  True\n",
      "Four is not equal to 4:  False\n"
     ]
    }
   ],
   "source": [
    "print(\"Four is not equal to 5: \", four != 5)\n",
    "print(\"Four is not equal to 4: \", four != 4)"
   ]
  },
  {
   "cell_type": "markdown",
   "id": "1f0d3b4b-140c-4ad1-b264-d3af4e1abe2f",
   "metadata": {},
   "source": [
    "`and` is used to check if two logical statements are both `True`. If this is the case it will return `True`"
   ]
  },
  {
   "cell_type": "code",
   "execution_count": 36,
   "id": "fc3bdb67-1b1c-43de-9939-faaa507c82c5",
   "metadata": {},
   "outputs": [
    {
     "data": {
      "text/plain": [
       "True"
      ]
     },
     "execution_count": 36,
     "metadata": {},
     "output_type": "execute_result"
    }
   ],
   "source": [
    "a = True\n",
    "b = True\n",
    "a and b"
   ]
  },
  {
   "cell_type": "code",
   "execution_count": 37,
   "id": "de1eb6b7-1cc7-45a4-8d54-db521c56d281",
   "metadata": {},
   "outputs": [
    {
     "data": {
      "text/plain": [
       "False"
      ]
     },
     "execution_count": 37,
     "metadata": {},
     "output_type": "execute_result"
    }
   ],
   "source": [
    "a = True\n",
    "b = False\n",
    "a and b"
   ]
  },
  {
   "cell_type": "code",
   "execution_count": 22,
   "id": "a1adbdd1-faf3-4387-98a0-c23f00e9885f",
   "metadata": {},
   "outputs": [
    {
     "data": {
      "text/plain": [
       "True"
      ]
     },
     "execution_count": 22,
     "metadata": {},
     "output_type": "execute_result"
    }
   ],
   "source": [
    "4 > 3 and 9 > 3"
   ]
  },
  {
   "cell_type": "markdown",
   "id": "6fb04614-6463-4518-b75c-e5e12a0f1e35",
   "metadata": {},
   "source": [
    "`or` is used to check if either one (or both) of two logical statements are `True`. If this is the case it will return `True`."
   ]
  },
  {
   "cell_type": "code",
   "execution_count": 24,
   "id": "c610a59a-4d65-4583-ab3b-5e9804a3bd53",
   "metadata": {},
   "outputs": [
    {
     "data": {
      "text/plain": [
       "True"
      ]
     },
     "execution_count": 24,
     "metadata": {},
     "output_type": "execute_result"
    }
   ],
   "source": [
    "3 > 4 or 9 > 3"
   ]
  },
  {
   "cell_type": "code",
   "execution_count": 25,
   "id": "2e90ec2f-5a62-4651-bab0-d2968d9402b5",
   "metadata": {},
   "outputs": [
    {
     "data": {
      "text/plain": [
       "True"
      ]
     },
     "execution_count": 25,
     "metadata": {},
     "output_type": "execute_result"
    }
   ],
   "source": [
    "4 > 3 or 9 > 3"
   ]
  },
  {
   "cell_type": "code",
   "execution_count": 29,
   "id": "71f75fc1",
   "metadata": {},
   "outputs": [
    {
     "name": "stdout",
     "output_type": "stream",
     "text": [
      "3 > 4 :  False\n"
     ]
    }
   ],
   "source": [
    "greater = 3 > 4\n",
    "print(\"3 > 4 : \", greater)"
   ]
  },
  {
   "cell_type": "markdown",
   "id": "3e6d1053",
   "metadata": {},
   "source": [
    "## The if-statement\n",
    "\n",
    "If statements can be used to perform tasks only when a certain condition is met."
   ]
  },
  {
   "cell_type": "code",
   "execution_count": null,
   "id": "a1aa1488",
   "metadata": {},
   "outputs": [],
   "source": [
    "num = 101\n",
    "\n",
    "if num > 100:\n",
    "    print('number is greater than 100')"
   ]
  },
  {
   "cell_type": "markdown",
   "id": "5d29d7ac-ab66-4809-9130-fba83ed8b258",
   "metadata": {},
   "source": [
    "It is possible to specify a task that is performed when the condition is not met using `else`"
   ]
  },
  {
   "cell_type": "code",
   "execution_count": 39,
   "id": "6df68b58-a1eb-4077-8b21-e60c82d5581f",
   "metadata": {},
   "outputs": [
    {
     "name": "stdout",
     "output_type": "stream",
     "text": [
      "number is not greater than 100\n",
      "done\n"
     ]
    }
   ],
   "source": [
    "num = 37\n",
    "\n",
    "if num > 100:\n",
    "    print('number is greater than 100')\n",
    "else:\n",
    "    print('number is not greater than 100')\n",
    "\n",
    "print('done')"
   ]
  },
  {
   "cell_type": "markdown",
   "id": "68fde7fc-004d-4da6-ae47-ad8e49a9ca29",
   "metadata": {},
   "source": [
    "An `if ... else` statement can be extended with `elif` to specify more tasks that need to be performed on other conditions. These extended `if ... else` statements always start with `if` and end with `else`. \n",
    "\n",
    "**Order matters**:\n",
    "The statements (or conditions) are checked in order from top to bottom and only the task belonging to the first condition that is met is being performed. "
   ]
  },
  {
   "cell_type": "code",
   "execution_count": 40,
   "id": "9d290217",
   "metadata": {},
   "outputs": [
    {
     "name": "stdout",
     "output_type": "stream",
     "text": [
      "-3 is negative\n"
     ]
    }
   ],
   "source": [
    "num = -3\n",
    "\n",
    "if num > 0:\n",
    "    print(num, 'is positive')\n",
    "elif num == 0:\n",
    "    print(num, 'is zero')\n",
    "else:\n",
    "    print(num, 'is negative')"
   ]
  },
  {
   "cell_type": "markdown",
   "id": "4d724d00",
   "metadata": {},
   "source": [
    "Along with the `>` and `==` operators that we have already used for comparing values in our logical statements above, there are a few more options to know about:\n",
    "\n",
    "- \\>: greater than\n",
    "- \\<: less than\n",
    "- ==: equal to\n",
    "- !=: does not equal\n",
    "- \\>=: greater than or equal to\n",
    "- \\<=: less than or equal to\n",
    "\n",
    "We can also combine logical statements using `and` and `or`."
   ]
  },
  {
   "cell_type": "code",
   "execution_count": null,
   "id": "c67b6d9c",
   "metadata": {},
   "outputs": [],
   "source": [
    "if (1 < 0) or (1 >= 0):\n",
    "    print('at least one the above logical statements is true')"
   ]
  },
  {
   "cell_type": "markdown",
   "id": "a84f2112",
   "metadata": {},
   "source": [
    "While `and` is only true if both parts are true"
   ]
  },
  {
   "cell_type": "code",
   "execution_count": 42,
   "id": "660a283a",
   "metadata": {},
   "outputs": [
    {
     "name": "stdout",
     "output_type": "stream",
     "text": [
      "at least one of both tests is not true\n"
     ]
    }
   ],
   "source": [
    "if (1 < 0) and (1 >= 0):\n",
    "    print('both tests are true')\n",
    "else:\n",
    "    print('at least one of both tests is not true')"
   ]
  },
  {
   "cell_type": "markdown",
   "id": "fb4caf19",
   "metadata": {},
   "source": [
    "## Lists and Tuples\n",
    "Lists are a common data structure to hold an ordered sequence of elements. We create a list by putting values inside square brackets and separating the values with commas. Each element can be accessed by an index. Note that Python indexes start with 0 instead of 1:"
   ]
  },
  {
   "cell_type": "code",
   "execution_count": null,
   "id": "dd45c27e-01be-4098-b460-b599588116bf",
   "metadata": {},
   "outputs": [],
   "source": [
    "numbers = [1, 2, 3]\n",
    "print(numbers)\n",
    "print(\"The first element in the list is: \", numbers[0])"
   ]
  },
  {
   "cell_type": "code",
   "execution_count": null,
   "id": "116d2f00-5408-4c1b-9256-23a539e5d70f",
   "metadata": {},
   "outputs": [],
   "source": [
    "type(numbers)"
   ]
  },
  {
   "cell_type": "code",
   "execution_count": null,
   "id": "b992f7e9-303d-4519-9db4-7f4639c3c469",
   "metadata": {},
   "outputs": [],
   "source": [
    "len(numbers)"
   ]
  },
  {
   "cell_type": "code",
   "execution_count": null,
   "id": "3598a902-4050-480e-a32b-906d32e8f503",
   "metadata": {},
   "outputs": [],
   "source": [
    "numbers[3]"
   ]
  },
  {
   "cell_type": "code",
   "execution_count": null,
   "id": "91ab00dd-82d6-4bb4-ab70-d05a58321aed",
   "metadata": {},
   "outputs": [],
   "source": [
    "numbers[-1]"
   ]
  },
  {
   "cell_type": "markdown",
   "id": "b2af74e5",
   "metadata": {},
   "source": [
    "Yes, we can use negative numbers as indices in Python. When we do so, the index -1 gives us the last element in the list, -2 the second to last, and so on. Because of this, numbers[3] and numbers[-1] point to the same element here."
   ]
  },
  {
   "cell_type": "code",
   "execution_count": null,
   "id": "487fffa5-baea-4d2a-8f17-599c49b99bd4",
   "metadata": {},
   "outputs": [],
   "source": [
    "numbers[2] == numbers[-1]"
   ]
  },
  {
   "cell_type": "code",
   "execution_count": null,
   "id": "5921ff34-9b29-41f8-8b79-f7c83825a1bc",
   "metadata": {},
   "outputs": [],
   "source": [
    "words = [\"cat\", \"dog\", \"horse\"]\n",
    "words[1]"
   ]
  },
  {
   "cell_type": "code",
   "execution_count": null,
   "id": "54931563-062d-4c08-bc74-8531e7e77fa4",
   "metadata": {},
   "outputs": [],
   "source": [
    "type(words)"
   ]
  },
  {
   "cell_type": "code",
   "execution_count": null,
   "id": "8af1ff46-79b8-4267-9fd6-b18675a32176",
   "metadata": {},
   "outputs": [],
   "source": [
    "if type(words) == type(numbers):\n",
    "    print(\"these variables have the same type!\")"
   ]
  },
  {
   "cell_type": "code",
   "execution_count": null,
   "id": "278297c8-9f31-4d6a-9240-d48f2ef58c46",
   "metadata": {},
   "outputs": [],
   "source": [
    "newlist = [\"cat\", 1, \"horse\"]"
   ]
  },
  {
   "cell_type": "code",
   "execution_count": null,
   "id": "60a83e89-d957-4c64-992d-bb3addb0f379",
   "metadata": {},
   "outputs": [],
   "source": [
    "type(newlist[0])"
   ]
  },
  {
   "cell_type": "code",
   "execution_count": null,
   "id": "119ef66d-9ede-403f-9cec-53519279309f",
   "metadata": {},
   "outputs": [],
   "source": [
    "type(newlist[1])"
   ]
  },
  {
   "cell_type": "code",
   "execution_count": null,
   "id": "4b606624-c1d8-4fd2-a5e4-99d07ce16fb6",
   "metadata": {},
   "outputs": [],
   "source": [
    "numbers.append(4)\n",
    "print(numbers)"
   ]
  },
  {
   "cell_type": "code",
   "execution_count": null,
   "id": "0cfd9b28-3e7e-4dfb-9c62-20ddfabc84c0",
   "metadata": {},
   "outputs": [],
   "source": [
    "numbers[2] = 333\n",
    "print(numbers)"
   ]
  },
  {
   "cell_type": "markdown",
   "id": "5c91cc82",
   "metadata": {},
   "source": [
    "There is one important difference between lists and strings: we can change the values in a list, but we cannot change individual characters in a string. For example:"
   ]
  },
  {
   "cell_type": "code",
   "execution_count": null,
   "id": "54d4445c",
   "metadata": {},
   "outputs": [],
   "source": [
    "word = \"Cat\"\n",
    "print(word[0])\n",
    "word[0] = c"
   ]
  },
  {
   "cell_type": "markdown",
   "id": "12906bc8",
   "metadata": {},
   "source": [
    "A tuple is similar to a list in that it’s an ordered sequence of elements. However, tuples can not be changed once created (they are “immutable”). Tuples are created by placing comma-separated values inside parentheses `()`."
   ]
  },
  {
   "cell_type": "code",
   "execution_count": null,
   "id": "9d5eb778-c201-492c-85c4-2c2b4fdcc553",
   "metadata": {},
   "outputs": [],
   "source": [
    "# Tuples use parentheses\n",
    "a_tuple = (1, 2, 3)\n",
    "another_tuple = ('blue', 'green', 'red')\n",
    "\n",
    "# Note: lists use square brackets\n",
    "a_list = [1, 2, 3]\n"
   ]
  },
  {
   "cell_type": "code",
   "execution_count": null,
   "id": "9cbb5fc6-dccb-4642-8bff-a6bc6ddbf589",
   "metadata": {},
   "outputs": [],
   "source": [
    "a_list[1] = 5\n",
    "print(a_list)"
   ]
  },
  {
   "cell_type": "code",
   "execution_count": null,
   "id": "a947a9b1-3c29-4f26-8b8f-e73ed24b2719",
   "metadata": {},
   "outputs": [],
   "source": [
    "a_tuple[2] = 5\n",
    "print(a_tuple)"
   ]
  },
  {
   "cell_type": "markdown",
   "id": "d0730def",
   "metadata": {},
   "source": [
    "Here we see that once the tuple is created, we cannot replace any of the values inside of the tuple."
   ]
  },
  {
   "cell_type": "code",
   "execution_count": null,
   "id": "a69d8a6b-c210-4a5b-b992-e8e0ff100f5e",
   "metadata": {},
   "outputs": [],
   "source": [
    "type(a_tuple)"
   ]
  },
  {
   "cell_type": "markdown",
   "id": "fa0bcd43",
   "metadata": {},
   "source": [
    "## Dictionaries\n",
    "A dictionary is a container that holds pairs of objects - keys and values."
   ]
  },
  {
   "cell_type": "code",
   "execution_count": null,
   "id": "af7de939-cb7e-4b61-84ff-099fcb3aa1c3",
   "metadata": {},
   "outputs": [],
   "source": [
    "my_dict = {'one': 'first', 'two': 'second'}\n",
    "my_dict"
   ]
  },
  {
   "cell_type": "markdown",
   "id": "1ce18694",
   "metadata": {},
   "source": [
    "We can access dictionary items by their key:"
   ]
  },
  {
   "cell_type": "code",
   "execution_count": null,
   "id": "0dc3089d-8e62-4f7b-a1b4-1213256e1736",
   "metadata": {},
   "outputs": [],
   "source": [
    "my_dict['one']"
   ]
  },
  {
   "cell_type": "markdown",
   "id": "9d34f2aa",
   "metadata": {},
   "source": [
    "And we can add new key-value pairs like that:"
   ]
  },
  {
   "cell_type": "code",
   "execution_count": null,
   "id": "f79a1c16-8bc9-4447-b9c5-11b7a75c6de4",
   "metadata": {},
   "outputs": [],
   "source": [
    "my_dict['third'] = 'three'\n",
    "my_dict"
   ]
  },
  {
   "cell_type": "markdown",
   "id": "1043ec01",
   "metadata": {},
   "source": [
    "Dictionary items are ordered, changeable, and do not allow duplicates.\n",
    "Dictionary items are presented in key:value pairs."
   ]
  },
  {
   "cell_type": "code",
   "execution_count": null,
   "id": "bf9cdfe6",
   "metadata": {},
   "outputs": [],
   "source": [
    "my_dict['third'] = 'three'\n",
    "my_dict"
   ]
  },
  {
   "cell_type": "code",
   "execution_count": null,
   "id": "85e1252b",
   "metadata": {},
   "outputs": [],
   "source": [
    "print(\"Dictionary keys: \", my_dict.keys())\n",
    "print(\"Dictionary values: \", my_dict.values())\n",
    "print(\"Dictionary items (key, value): \", my_dict.items())"
   ]
  },
  {
   "cell_type": "markdown",
   "id": "07f1b819-f558-4566-ad6d-6c154d3e59c6",
   "metadata": {},
   "source": [
    "## For loops\n",
    "Let's have a look at our list again. One way to print each number is to use three print statements:"
   ]
  },
  {
   "cell_type": "code",
   "execution_count": null,
   "id": "0db2ec1b-18cf-4f98-a7e2-f0ae1edb048a",
   "metadata": {},
   "outputs": [],
   "source": [
    "numbers = [5, 6, 7]\n",
    "print(numbers[0])\n",
    "print(numbers[1])\n",
    "print(numbers[2])"
   ]
  },
  {
   "cell_type": "markdown",
   "id": "aba74de1",
   "metadata": {},
   "source": [
    "A better and more reliable way to print each element of a list is to loop over the list:"
   ]
  },
  {
   "cell_type": "code",
   "execution_count": null,
   "id": "3ad3e726-f819-4fba-a753-9b70875239fe",
   "metadata": {},
   "outputs": [],
   "source": [
    "for item in numbers:\n",
    "    print(item)"
   ]
  },
  {
   "cell_type": "markdown",
   "id": "b6f37810",
   "metadata": {},
   "source": [
    "The improved version uses a for loop to repeat an operation — in this case, printing — once for each thing in a sequence.\n",
    "If we want to also get the index, we can use the built-in function enumerate:"
   ]
  },
  {
   "cell_type": "code",
   "execution_count": null,
   "id": "ae62df9f-8f62-415a-8642-69497b118828",
   "metadata": {},
   "outputs": [],
   "source": [
    "words = [\"cat\", \"dog\", \"horse\"]\n",
    "\n",
    "for index, item in enumerate(words):\n",
    "    print(index)\n",
    "    print(item)"
   ]
  },
  {
   "cell_type": "markdown",
   "id": "fc246d94",
   "metadata": {},
   "source": [
    "Let's take our dictionary from the previous section and inspect the dictionary items"
   ]
  },
  {
   "cell_type": "code",
   "execution_count": null,
   "id": "9c13f5e0-008e-4f84-9414-9a0d7d5c0daa",
   "metadata": {},
   "outputs": [],
   "source": [
    "for item in my_dict.items():\n",
    "    print(item, \"is of type\", type(item))"
   ]
  },
  {
   "cell_type": "markdown",
   "id": "655e7369",
   "metadata": {},
   "source": [
    "We can extract the keys and values from the items directly in the `for` statement:"
   ]
  },
  {
   "cell_type": "code",
   "execution_count": null,
   "id": "9c238dad",
   "metadata": {},
   "outputs": [],
   "source": [
    "for key, value in my_dict.items():\n",
    "    print(key, \"->\", value)"
   ]
  },
  {
   "cell_type": "markdown",
   "id": "f3bfd9b9",
   "metadata": {},
   "source": [
    "## Functions\n",
    "We have already seen two built-in functions: `print`, `type`, `len`. And we have seen special functions that belong to a variable (python object) like `my_dict.items()`. There are more built-in functions e.g. for mathematical operations:"
   ]
  },
  {
   "cell_type": "code",
   "execution_count": null,
   "id": "a83f4408",
   "metadata": {},
   "outputs": [],
   "source": [
    "sum(numbers)"
   ]
  },
  {
   "cell_type": "markdown",
   "id": "3e7852a6",
   "metadata": {},
   "source": [
    "Please refer to https://docs.python.org/3/library/functions.html for more built-in functions.\n",
    "\n",
    "### Writing own functions\n",
    "We will now turn to writing own functions. When should you write your own function?\n",
    "1. If the functionality is not covered by an out-of-the-box function like the built-in functions or another python  package\n",
    "2. When code is getting pretty long, you can split it up into logical units\n",
    "3. When code is often reused, e.g. you are reading in tens of spreadsheets and you need to clean them all in the same way\n",
    "4. ...\n",
    "Python provides for this by letting us define things called ‘functions’ — a shorthand way of re-executing longer pieces of code. Let’s start by defining a function fahr_to_celsius that converts temperatures from Fahrenheit to Celsius:"
   ]
  },
  {
   "cell_type": "code",
   "execution_count": null,
   "id": "26b11914",
   "metadata": {},
   "outputs": [],
   "source": [
    "def fahr_to_celsius(temp):\n",
    "    return ((temp - 32) * (5/9))"
   ]
  },
  {
   "cell_type": "markdown",
   "id": "6c281d8e",
   "metadata": {},
   "source": [
    "The function definition opens with the keyword `def` followed by the name of the function (fahr_to_celsius) and a parenthesized list of parameter names (temp). The body of the function — the statements that are executed when it runs — is indented below the definition line. The body concludes with a `return` keyword followed by the return value.\n",
    "\n",
    "When we call the function, the values we pass to it are assigned to those variables so that we can use them inside the function. Inside the function, we use a return statement to send a result back to whoever asked for it.\n",
    "\n",
    "Let’s try running our function."
   ]
  },
  {
   "cell_type": "code",
   "execution_count": null,
   "id": "26748a14",
   "metadata": {},
   "outputs": [],
   "source": [
    "fahr_to_celsius(98)"
   ]
  },
  {
   "cell_type": "code",
   "execution_count": null,
   "id": "57103b9e",
   "metadata": {},
   "outputs": [],
   "source": [
    "print('freezing point of water:', fahr_to_celsius(32), 'C')\n",
    "print('boiling point of water:', fahr_to_celsius(212), 'C')"
   ]
  },
  {
   "cell_type": "markdown",
   "id": "7e5bef39",
   "metadata": {},
   "source": [
    "Here we directly opassed a value to the function. We can also call the function with a variable:"
   ]
  },
  {
   "cell_type": "code",
   "execution_count": null,
   "id": "5978ffee",
   "metadata": {},
   "outputs": [],
   "source": [
    "a = 0\n",
    "print(fahr_to_celsius(a))"
   ]
  },
  {
   "cell_type": "markdown",
   "id": "9e6d3a7b",
   "metadata": {},
   "source": [
    "What happens if you pass a variable name that is not defined yet?"
   ]
  },
  {
   "cell_type": "code",
   "execution_count": null,
   "id": "d637281d",
   "metadata": {},
   "outputs": [],
   "source": [
    "print(fahr_to_celsius(b))"
   ]
  }
 ],
 "metadata": {
  "kernelspec": {
   "display_name": "Python 3 (ipykernel)",
   "language": "python",
   "name": "python3"
  },
  "language_info": {
   "codemirror_mode": {
    "name": "ipython",
    "version": 3
   },
   "file_extension": ".py",
   "mimetype": "text/x-python",
   "name": "python",
   "nbconvert_exporter": "python",
   "pygments_lexer": "ipython3",
   "version": "3.8.12"
  }
 },
 "nbformat": 4,
 "nbformat_minor": 5
}
